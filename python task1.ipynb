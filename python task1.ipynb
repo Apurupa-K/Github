{
 "cells": [
  {
   "cell_type": "code",
   "execution_count": 1,
   "id": "neither-potato",
   "metadata": {},
   "outputs": [
    {
     "name": "stdout",
     "output_type": "stream",
     "text": [
      "567864871\n",
      "Even numbers are: 8 4 6 8 6 \n",
      "Even count is: 5\n",
      "Even numbers sum is:32\n",
      "odd numbers are: 1 7 7 5 \n",
      "Odd count is: 4\n",
      "odd numbers sum is:20\n"
     ]
    }
   ],
   "source": [
    "\n",
    "a=178468765\n",
    "r,esum,osum,ec,oc=0,0,0,0,0\n",
    "while a>0:\n",
    "   b=a%10\n",
    "   r=(r*10)+b\n",
    "   a=a//10\n",
    "print(r)\n",
    "n=r\n",
    "print(\"Even numbers are:\",end=\" \")\n",
    "while (r!=0):\n",
    "   d = r%10    \n",
    "   r = r // 10\n",
    "   if d%2==0:\n",
    "       esum=esum+d\n",
    "       ec=ec+1\n",
    "       print(\"{}\".format(d),end=\" \")\n",
    "print(end=\"\\n\")\n",
    "print(\"Even count is: {}\".format(ec))\n",
    "#print(end=\"\\n\")\n",
    "print(\"Even numbers sum is:{}\".format(esum))\n",
    "print(\"odd numbers are:\",end=\" \")\n",
    "while (n!=0):\n",
    "   d = n%10    \n",
    "   n = n// 10\n",
    "   if d%2==1:\n",
    "       osum=osum+d\n",
    "       oc=oc+1\n",
    "       print(\"{}\".format(d),end=\" \")\n",
    "print(end=\"\\n\")\n",
    "print(\"Odd count is: {}\".format(oc))\n",
    "#print(end=\"\\n\")\n",
    "print(\"odd numbers sum is:{}\".format(osum))\n",
    "           \n",
    "    "
   ]
  },
  {
   "cell_type": "code",
   "execution_count": null,
   "id": "smart-indonesia",
   "metadata": {},
   "outputs": [],
   "source": []
  }
 ],
 "metadata": {
  "kernelspec": {
   "display_name": "Python 3",
   "language": "python",
   "name": "python3"
  },
  "language_info": {
   "codemirror_mode": {
    "name": "ipython",
    "version": 3
   },
   "file_extension": ".py",
   "mimetype": "text/x-python",
   "name": "python",
   "nbconvert_exporter": "python",
   "pygments_lexer": "ipython3",
   "version": "3.7.4"
  }
 },
 "nbformat": 4,
 "nbformat_minor": 5
}
